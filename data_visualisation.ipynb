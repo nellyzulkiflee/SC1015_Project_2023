{
 "cells": [
  {
   "attachments": {},
   "cell_type": "markdown",
   "metadata": {},
   "source": [
    "### Data Visualisation"
   ]
  },
  {
   "attachments": {},
   "cell_type": "markdown",
   "metadata": {},
   "source": [
    "### Import Necessary Libraries"
   ]
  },
  {
   "cell_type": "code",
   "execution_count": null,
   "metadata": {},
   "outputs": [],
   "source": [
    "import numpy as np\n",
    "import pandas as pd\n",
    "import seaborn as sb\n",
    "import matplotlib.pyplot as plt "
   ]
  },
  {
   "attachments": {},
   "cell_type": "markdown",
   "metadata": {},
   "source": [
    "# EXAMPLE:(PLEASE CHANGE/REMOVE WHEN NOT NEEDED)"
   ]
  },
  {
   "cell_type": "code",
   "execution_count": null,
   "metadata": {},
   "outputs": [],
   "source": [
    "main_data = pd.read_csv('datasets/original_eating_habits_data.csv')"
   ]
  },
  {
   "cell_type": "code",
   "execution_count": null,
   "metadata": {},
   "outputs": [],
   "source": [
    "#Boxplot of NObeyesdad vs Age with Gender\n",
    "f = plt.figure(figsize=(24, 16))\n",
    "sb.boxplot(x='NObeyesdad', y='Age', hue='Gender', data=main_data)\n",
    "plt.xlabel('Obesity Classes')\n",
    "plt.ylabel('Age')\n",
    "plt.title('Box Plot of Age by Obesity Classes and Gender')\n",
    "plt.show()\n"
   ]
  },
  {
   "cell_type": "code",
   "execution_count": null,
   "metadata": {},
   "outputs": [],
   "source": [
    "#Violin Plot of NObeyesdad vs Age with Gender\n",
    "f = plt.figure(figsize=(24, 16))\n",
    "sb.violinplot(x='NObeyesdad', y='Age', hue='Gender', data=main_data)\n",
    "plt.xlabel('Obesity Classes')\n",
    "plt.ylabel('Age')\n",
    "plt.title('Violin Plot of Age by Obesity Classes and Gender')\n",
    "plt.show()"
   ]
  }
 ],
 "metadata": {
  "language_info": {
   "name": "python"
  },
  "orig_nbformat": 4
 },
 "nbformat": 4,
 "nbformat_minor": 2
}
